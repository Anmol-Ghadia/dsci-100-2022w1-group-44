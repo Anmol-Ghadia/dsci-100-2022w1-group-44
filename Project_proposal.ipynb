{
 "cells": [
  {
   "cell_type": "markdown",
   "id": "695278f2-7ea4-45f7-bf45-4563d5b69ac1",
   "metadata": {},
   "source": [
    "### Data Analysis Project - Proposal (group 44)\n",
    "\n",
    "# What Characteristics Best Predict Income?\n",
    "\n",
    "### About the Project\n",
    "**What makes us wealthy?** Everyone has wondered about this question at some point. Is it our education level, type of job or something else? In this project we aim to answer this question to an extent.\n",
    "\n",
    "\n",
    "#### Origin of the Data\n",
    "The data we are using for this project was collected from the U.S. Census Bureau from the adult population in 1994. Extraction was done by Barry Becker. He extracted a set of reasonably clean records which followed all of the conditions below:\n",
    "* AGE > 16\n",
    "* AGI > 100\n",
    "* AFNLWGT > 1\n",
    "* HRSWRK > 0\n",
    "\n",
    "#### About the Data\n",
    "\n",
    "To perform an honest data analysis, we need to make sure that no testing data leaks into the data used to train our model(training data). So, we have already separated the data into 3 files called:\n",
    "\n",
    "* **Training Data**\n",
    "    1. *income_training.csv*\n",
    "* **Testing Data**\n",
    "    2. *income_testing.csv*\n",
    "    2. *income_testing_labs.csv*\n",
    "\n",
    "**Note**: for the proposal, testing data is not used as we do not have a model yet.\n",
    "\n",
    "The dataset contains 16 attributes:\n",
    "1. **observation_num**:  Not useful for this study and will be removed from the data\n",
    "1. **age**: Continuous\n",
    "1. **workclass**: Categorical(Ex private, state-gov, etc.)\n",
    "1. **fnlwgt**: continuous\n",
    "1. **education**: Categorical(Ex Bachelors, Masters, etc.)\n",
    "1. **eduation_num**: Continuous\n",
    "1. **marital-status**: Categorical(Ex Divorced, Never-married, etc.)\n",
    "1. **occupation**: Categorical(Ex Tech-support, craft-repair, etc.)\n",
    "1. **relationship**: Categorical(Ex Wife, Unmarried, etc.)\n",
    "1. **race**: Categorical(Ex White,Asian-Pac-Islander, etc.)\n",
    "1. **sex**: Categorical(Ex Female, Male)\n",
    "1. **capital_gain**: Continuous\n",
    "1. **capital_loss**: Continuous\n",
    "1. **hours_per_week**: Continuous\n",
    "1. **native_country**: Categorical(Ex England, Germany, etc.)\n",
    "1. **income**: Categorical(Ex >50, <=50)\n",
    "\n",
    "**Note**: We are trying to predict last attribute(income)\n",
    "\n",
    "Some attributes may have ambiguous or unclear names, hence the exact descreption of the attributes can be found here: [Income data description](https://raw.githubusercontent.com/Anmol-Ghadia/dsci-100-2022w1-group-44/main/data/income_desc.txt)\n",
    "\n",
    "#### Question we are trying to answer\n",
    "**Which two predictors are the most accurate in classifying peope who have an annual income above $50k per year?**"
   ]
  },
  {
   "cell_type": "markdown",
   "id": "068f03d0-4c86-4788-8a39-e6a835e9e0c9",
   "metadata": {},
   "source": [
    "### Preliminary explaoratory data analysis\n",
    "\n",
    "Loading the basic libraries for data analysis:\n",
    "1. tidyverse: For reading and manipulating datasets\n",
    "1. ggplot2: For plotting data"
   ]
  },
  {
   "cell_type": "code",
   "execution_count": 34,
   "id": "8cf0c357-4b9f-4e67-b6a6-23566c32195c",
   "metadata": {},
   "outputs": [],
   "source": [
    "library(tidyverse)\n",
    "library(ggplot2)"
   ]
  },
  {
   "cell_type": "markdown",
   "id": "688790b1-bea8-4271-8383-606752bc046b",
   "metadata": {},
   "source": [
    "#### Reading data from the web\n",
    "The data can be read from the web using *read_csv* here we also remove the duplicate observation number and print the first 6 observations(using *head*) to know if the data was read properly.\n"
   ]
  },
  {
   "cell_type": "code",
   "execution_count": 36,
   "id": "50b29d9a-bcbc-4bcd-b291-9145a17c657d",
   "metadata": {},
   "outputs": [
    {
     "name": "stderr",
     "output_type": "stream",
     "text": [
      "\u001b[1m\u001b[22mNew names:\n",
      "\u001b[36m•\u001b[39m `` -> `...1`\n",
      "\u001b[1mRows: \u001b[22m\u001b[34m8067\u001b[39m \u001b[1mColumns: \u001b[22m\u001b[34m17\u001b[39m\n",
      "\u001b[36m──\u001b[39m \u001b[1mColumn specification\u001b[22m \u001b[36m────────────────────────────────────────────────────────\u001b[39m\n",
      "\u001b[1mDelimiter:\u001b[22m \",\"\n",
      "\u001b[31mchr\u001b[39m (9): workclass, education, marital_status, occupation, relationship, rac...\n",
      "\u001b[32mdbl\u001b[39m (8): ...1, observation_num, age, fnlwgt, education_num, capital_gain, ca...\n",
      "\n",
      "\u001b[36mℹ\u001b[39m Use `spec()` to retrieve the full column specification for this data.\n",
      "\u001b[36mℹ\u001b[39m Specify the column types or set `show_col_types = FALSE` to quiet this message.\n"
     ]
    },
    {
     "data": {
      "text/html": [
       "<table class=\"dataframe\">\n",
       "<caption>A tibble: 6 × 16</caption>\n",
       "<thead>\n",
       "\t<tr><th scope=col>observation_num</th><th scope=col>age</th><th scope=col>workclass</th><th scope=col>fnlwgt</th><th scope=col>education</th><th scope=col>education_num</th><th scope=col>marital_status</th><th scope=col>occupation</th><th scope=col>relationship</th><th scope=col>race</th><th scope=col>sex</th><th scope=col>capital_gain</th><th scope=col>capital_loss</th><th scope=col>hours_per_week</th><th scope=col>native_country</th><th scope=col>income</th></tr>\n",
       "\t<tr><th scope=col>&lt;dbl&gt;</th><th scope=col>&lt;dbl&gt;</th><th scope=col>&lt;chr&gt;</th><th scope=col>&lt;dbl&gt;</th><th scope=col>&lt;chr&gt;</th><th scope=col>&lt;dbl&gt;</th><th scope=col>&lt;chr&gt;</th><th scope=col>&lt;chr&gt;</th><th scope=col>&lt;chr&gt;</th><th scope=col>&lt;chr&gt;</th><th scope=col>&lt;chr&gt;</th><th scope=col>&lt;dbl&gt;</th><th scope=col>&lt;dbl&gt;</th><th scope=col>&lt;dbl&gt;</th><th scope=col>&lt;chr&gt;</th><th scope=col>&lt;chr&gt;</th></tr>\n",
       "</thead>\n",
       "<tbody>\n",
       "\t<tr><td>1</td><td>39</td><td><span style=white-space:pre-wrap>State-gov       </span></td><td> 77516</td><td>Bachelors</td><td>13</td><td><span style=white-space:pre-wrap>Never-married     </span></td><td><span style=white-space:pre-wrap>Adm-clerical   </span></td><td>Not-in-family</td><td>White</td><td><span style=white-space:pre-wrap>Male  </span></td><td> 2174</td><td>0</td><td>40</td><td>United-States</td><td>&lt;=50K</td></tr>\n",
       "\t<tr><td>2</td><td>50</td><td>Self-emp-not-inc</td><td> 83311</td><td>Bachelors</td><td>13</td><td>Married-civ-spouse</td><td>Exec-managerial</td><td><span style=white-space:pre-wrap>Husband      </span></td><td>White</td><td><span style=white-space:pre-wrap>Male  </span></td><td><span style=white-space:pre-wrap>    0</span></td><td>0</td><td>13</td><td>United-States</td><td>&lt;=50K</td></tr>\n",
       "\t<tr><td>3</td><td>28</td><td><span style=white-space:pre-wrap>Private         </span></td><td>338409</td><td>Bachelors</td><td>13</td><td>Married-civ-spouse</td><td>Prof-specialty </td><td><span style=white-space:pre-wrap>Wife         </span></td><td>Black</td><td>Female</td><td><span style=white-space:pre-wrap>    0</span></td><td>0</td><td>40</td><td><span style=white-space:pre-wrap>Cuba         </span></td><td>&lt;=50K</td></tr>\n",
       "\t<tr><td>4</td><td>37</td><td><span style=white-space:pre-wrap>Private         </span></td><td>284582</td><td><span style=white-space:pre-wrap>Masters  </span></td><td>14</td><td>Married-civ-spouse</td><td>Exec-managerial</td><td><span style=white-space:pre-wrap>Wife         </span></td><td>White</td><td>Female</td><td><span style=white-space:pre-wrap>    0</span></td><td>0</td><td>40</td><td>United-States</td><td>&lt;=50K</td></tr>\n",
       "\t<tr><td>5</td><td>31</td><td><span style=white-space:pre-wrap>Private         </span></td><td> 45781</td><td><span style=white-space:pre-wrap>Masters  </span></td><td>14</td><td><span style=white-space:pre-wrap>Never-married     </span></td><td>Prof-specialty </td><td>Not-in-family</td><td>White</td><td>Female</td><td>14084</td><td>0</td><td>50</td><td>United-States</td><td>&gt;50K </td></tr>\n",
       "\t<tr><td>6</td><td>42</td><td><span style=white-space:pre-wrap>Private         </span></td><td>159449</td><td>Bachelors</td><td>13</td><td>Married-civ-spouse</td><td>Exec-managerial</td><td><span style=white-space:pre-wrap>Husband      </span></td><td>White</td><td><span style=white-space:pre-wrap>Male  </span></td><td> 5178</td><td>0</td><td>40</td><td>United-States</td><td>&gt;50K </td></tr>\n",
       "</tbody>\n",
       "</table>\n"
      ],
      "text/latex": [
       "A tibble: 6 × 16\n",
       "\\begin{tabular}{llllllllllllllll}\n",
       " observation\\_num & age & workclass & fnlwgt & education & education\\_num & marital\\_status & occupation & relationship & race & sex & capital\\_gain & capital\\_loss & hours\\_per\\_week & native\\_country & income\\\\\n",
       " <dbl> & <dbl> & <chr> & <dbl> & <chr> & <dbl> & <chr> & <chr> & <chr> & <chr> & <chr> & <dbl> & <dbl> & <dbl> & <chr> & <chr>\\\\\n",
       "\\hline\n",
       "\t 1 & 39 & State-gov        &  77516 & Bachelors & 13 & Never-married      & Adm-clerical    & Not-in-family & White & Male   &  2174 & 0 & 40 & United-States & <=50K\\\\\n",
       "\t 2 & 50 & Self-emp-not-inc &  83311 & Bachelors & 13 & Married-civ-spouse & Exec-managerial & Husband       & White & Male   &     0 & 0 & 13 & United-States & <=50K\\\\\n",
       "\t 3 & 28 & Private          & 338409 & Bachelors & 13 & Married-civ-spouse & Prof-specialty  & Wife          & Black & Female &     0 & 0 & 40 & Cuba          & <=50K\\\\\n",
       "\t 4 & 37 & Private          & 284582 & Masters   & 14 & Married-civ-spouse & Exec-managerial & Wife          & White & Female &     0 & 0 & 40 & United-States & <=50K\\\\\n",
       "\t 5 & 31 & Private          &  45781 & Masters   & 14 & Never-married      & Prof-specialty  & Not-in-family & White & Female & 14084 & 0 & 50 & United-States & >50K \\\\\n",
       "\t 6 & 42 & Private          & 159449 & Bachelors & 13 & Married-civ-spouse & Exec-managerial & Husband       & White & Male   &  5178 & 0 & 40 & United-States & >50K \\\\\n",
       "\\end{tabular}\n"
      ],
      "text/markdown": [
       "\n",
       "A tibble: 6 × 16\n",
       "\n",
       "| observation_num &lt;dbl&gt; | age &lt;dbl&gt; | workclass &lt;chr&gt; | fnlwgt &lt;dbl&gt; | education &lt;chr&gt; | education_num &lt;dbl&gt; | marital_status &lt;chr&gt; | occupation &lt;chr&gt; | relationship &lt;chr&gt; | race &lt;chr&gt; | sex &lt;chr&gt; | capital_gain &lt;dbl&gt; | capital_loss &lt;dbl&gt; | hours_per_week &lt;dbl&gt; | native_country &lt;chr&gt; | income &lt;chr&gt; |\n",
       "|---|---|---|---|---|---|---|---|---|---|---|---|---|---|---|---|\n",
       "| 1 | 39 | State-gov        |  77516 | Bachelors | 13 | Never-married      | Adm-clerical    | Not-in-family | White | Male   |  2174 | 0 | 40 | United-States | &lt;=50K |\n",
       "| 2 | 50 | Self-emp-not-inc |  83311 | Bachelors | 13 | Married-civ-spouse | Exec-managerial | Husband       | White | Male   |     0 | 0 | 13 | United-States | &lt;=50K |\n",
       "| 3 | 28 | Private          | 338409 | Bachelors | 13 | Married-civ-spouse | Prof-specialty  | Wife          | Black | Female |     0 | 0 | 40 | Cuba          | &lt;=50K |\n",
       "| 4 | 37 | Private          | 284582 | Masters   | 14 | Married-civ-spouse | Exec-managerial | Wife          | White | Female |     0 | 0 | 40 | United-States | &lt;=50K |\n",
       "| 5 | 31 | Private          |  45781 | Masters   | 14 | Never-married      | Prof-specialty  | Not-in-family | White | Female | 14084 | 0 | 50 | United-States | &gt;50K  |\n",
       "| 6 | 42 | Private          | 159449 | Bachelors | 13 | Married-civ-spouse | Exec-managerial | Husband       | White | Male   |  5178 | 0 | 40 | United-States | &gt;50K  |\n",
       "\n"
      ],
      "text/plain": [
       "  observation_num age workclass        fnlwgt education education_num\n",
       "1 1               39  State-gov         77516 Bachelors 13           \n",
       "2 2               50  Self-emp-not-inc  83311 Bachelors 13           \n",
       "3 3               28  Private          338409 Bachelors 13           \n",
       "4 4               37  Private          284582 Masters   14           \n",
       "5 5               31  Private           45781 Masters   14           \n",
       "6 6               42  Private          159449 Bachelors 13           \n",
       "  marital_status     occupation      relationship  race  sex    capital_gain\n",
       "1 Never-married      Adm-clerical    Not-in-family White Male    2174       \n",
       "2 Married-civ-spouse Exec-managerial Husband       White Male       0       \n",
       "3 Married-civ-spouse Prof-specialty  Wife          Black Female     0       \n",
       "4 Married-civ-spouse Exec-managerial Wife          White Female     0       \n",
       "5 Never-married      Prof-specialty  Not-in-family White Female 14084       \n",
       "6 Married-civ-spouse Exec-managerial Husband       White Male    5178       \n",
       "  capital_loss hours_per_week native_country income\n",
       "1 0            40             United-States  <=50K \n",
       "2 0            13             United-States  <=50K \n",
       "3 0            40             Cuba           <=50K \n",
       "4 0            40             United-States  <=50K \n",
       "5 0            50             United-States  >50K  \n",
       "6 0            40             United-States  >50K  "
      ]
     },
     "metadata": {},
     "output_type": "display_data"
    }
   ],
   "source": [
    "income_data <- read_csv(\"https://raw.githubusercontent.com/Anmol-Ghadia/dsci-100-2022w1-group-44/main/data/income_training.csv\") |> select(- ...1)\n",
    "head(income_data)"
   ]
  },
  {
   "cell_type": "markdown",
   "id": "2a982424-e97c-491c-b257-d10f64df1f9b",
   "metadata": {},
   "source": [
    "#### Cleaning and wrangling data\n",
    "R did a good job of reading the dataset but it did not properly assign **data types** to all the columns. we don't need the attribute called *observation_num* so we will remove it. Another important step we can take right now to buid a good model later on, is to **randomize** the order of observations(using *sample*)."
   ]
  },
  {
   "cell_type": "code",
   "execution_count": 55,
   "id": "d5361aef-9477-46a8-a22d-a3b7b3051211",
   "metadata": {},
   "outputs": [
    {
     "data": {
      "text/html": [
       "<table class=\"dataframe\">\n",
       "<caption>A tibble: 1 × 15</caption>\n",
       "<thead>\n",
       "\t<tr><th scope=col>hours_per_week</th><th scope=col>workclass</th><th scope=col>education_num</th><th scope=col>capital_loss</th><th scope=col>race</th><th scope=col>age</th><th scope=col>sex</th><th scope=col>fnlwgt</th><th scope=col>native_country</th><th scope=col>capital_gain</th><th scope=col>marital_status</th><th scope=col>income</th><th scope=col>occupation</th><th scope=col>relationship</th><th scope=col>education</th></tr>\n",
       "\t<tr><th scope=col>&lt;dbl&gt;</th><th scope=col>&lt;fct&gt;</th><th scope=col>&lt;dbl&gt;</th><th scope=col>&lt;dbl&gt;</th><th scope=col>&lt;fct&gt;</th><th scope=col>&lt;dbl&gt;</th><th scope=col>&lt;fct&gt;</th><th scope=col>&lt;dbl&gt;</th><th scope=col>&lt;fct&gt;</th><th scope=col>&lt;dbl&gt;</th><th scope=col>&lt;fct&gt;</th><th scope=col>&lt;fct&gt;</th><th scope=col>&lt;fct&gt;</th><th scope=col>&lt;fct&gt;</th><th scope=col>&lt;fct&gt;</th></tr>\n",
       "</thead>\n",
       "<tbody>\n",
       "\t<tr><td>40</td><td>State-gov</td><td>13</td><td>0</td><td>White</td><td>39</td><td>Male</td><td>77516</td><td>United-States</td><td>2174</td><td>Never-married</td><td>&lt;=50K</td><td>Adm-clerical</td><td>Not-in-family</td><td>Bachelors</td></tr>\n",
       "</tbody>\n",
       "</table>\n"
      ],
      "text/latex": [
       "A tibble: 1 × 15\n",
       "\\begin{tabular}{lllllllllllllll}\n",
       " hours\\_per\\_week & workclass & education\\_num & capital\\_loss & race & age & sex & fnlwgt & native\\_country & capital\\_gain & marital\\_status & income & occupation & relationship & education\\\\\n",
       " <dbl> & <fct> & <dbl> & <dbl> & <fct> & <dbl> & <fct> & <dbl> & <fct> & <dbl> & <fct> & <fct> & <fct> & <fct> & <fct>\\\\\n",
       "\\hline\n",
       "\t 40 & State-gov & 13 & 0 & White & 39 & Male & 77516 & United-States & 2174 & Never-married & <=50K & Adm-clerical & Not-in-family & Bachelors\\\\\n",
       "\\end{tabular}\n"
      ],
      "text/markdown": [
       "\n",
       "A tibble: 1 × 15\n",
       "\n",
       "| hours_per_week &lt;dbl&gt; | workclass &lt;fct&gt; | education_num &lt;dbl&gt; | capital_loss &lt;dbl&gt; | race &lt;fct&gt; | age &lt;dbl&gt; | sex &lt;fct&gt; | fnlwgt &lt;dbl&gt; | native_country &lt;fct&gt; | capital_gain &lt;dbl&gt; | marital_status &lt;fct&gt; | income &lt;fct&gt; | occupation &lt;fct&gt; | relationship &lt;fct&gt; | education &lt;fct&gt; |\n",
       "|---|---|---|---|---|---|---|---|---|---|---|---|---|---|---|\n",
       "| 40 | State-gov | 13 | 0 | White | 39 | Male | 77516 | United-States | 2174 | Never-married | &lt;=50K | Adm-clerical | Not-in-family | Bachelors |\n",
       "\n"
      ],
      "text/plain": [
       "  hours_per_week workclass education_num capital_loss race  age sex  fnlwgt\n",
       "1 40             State-gov 13            0            White 39  Male 77516 \n",
       "  native_country capital_gain marital_status income occupation   relationship \n",
       "1 United-States  2174         Never-married  <=50K  Adm-clerical Not-in-family\n",
       "  education\n",
       "1 Bachelors"
      ]
     },
     "metadata": {},
     "output_type": "display_data"
    }
   ],
   "source": [
    "income_training <- income_data |>\n",
    "                    select(- observation_num) |>\n",
    "                    mutate(workclass = as.factor(workclass),\n",
    "                           education = as.factor(education),\n",
    "                           marital_status = as.factor(marital_status),\n",
    "                           occupation = as.factor(occupation),\n",
    "                           relationship = as.factor(relationship),\n",
    "                           race = as.factor(race),\n",
    "                           sex = as.factor(sex),\n",
    "                           native_country = as.factor(native_country),\n",
    "                           income = as.factor(income)) |>\n",
    "                    sample()\n",
    "\n",
    "slice(income_training,1)"
   ]
  },
  {
   "cell_type": "markdown",
   "id": "dc1f5884-247f-448e-8fc2-5bb01a1cdd85",
   "metadata": {},
   "source": [
    "#### Summarizing data\n",
    "\n",
    "Before training our model, it is a good practice to analyze the data using simple statistics.\n",
    "\n",
    "1. We should see if your training dataset contains equal number of each class that will be predicted(*here we are predicting income*)."
   ]
  },
  {
   "cell_type": "code",
   "execution_count": 59,
   "id": "5698cbb3-39a6-495e-8f5d-3fe837d5d7f6",
   "metadata": {},
   "outputs": [
    {
     "data": {
      "text/html": [
       "<table class=\"dataframe\">\n",
       "<caption>A tibble: 2 × 2</caption>\n",
       "<thead>\n",
       "\t<tr><th scope=col>income</th><th scope=col>Number_of_Observations</th></tr>\n",
       "\t<tr><th scope=col>&lt;fct&gt;</th><th scope=col>&lt;int&gt;</th></tr>\n",
       "</thead>\n",
       "<tbody>\n",
       "\t<tr><td>&lt;=50K</td><td>4158</td></tr>\n",
       "\t<tr><td>&gt;50K </td><td>3909</td></tr>\n",
       "</tbody>\n",
       "</table>\n"
      ],
      "text/latex": [
       "A tibble: 2 × 2\n",
       "\\begin{tabular}{ll}\n",
       " income & Number\\_of\\_Observations\\\\\n",
       " <fct> & <int>\\\\\n",
       "\\hline\n",
       "\t <=50K & 4158\\\\\n",
       "\t >50K  & 3909\\\\\n",
       "\\end{tabular}\n"
      ],
      "text/markdown": [
       "\n",
       "A tibble: 2 × 2\n",
       "\n",
       "| income &lt;fct&gt; | Number_of_Observations &lt;int&gt; |\n",
       "|---|---|\n",
       "| &lt;=50K | 4158 |\n",
       "| &gt;50K  | 3909 |\n",
       "\n"
      ],
      "text/plain": [
       "  income Number_of_Observations\n",
       "1 <=50K  4158                  \n",
       "2 >50K   3909                  "
      ]
     },
     "metadata": {},
     "output_type": "display_data"
    }
   ],
   "source": [
    "income_summary_1 <- income_training |>\n",
    "                    group_by(income) |>\n",
    "                    summarize(Number_of_Observations = n())\n",
    "income_summary_1"
   ]
  },
  {
   "cell_type": "markdown",
   "id": "7a3ee17c-668f-433f-8962-db5ab2e1f2a0",
   "metadata": {},
   "source": [
    "The number of observations are very close, so we can trust our model to have enough training on both the classes. And hence be a good model.\n",
    "\n",
    "2. We can see if our model will be equally valid for both genders."
   ]
  },
  {
   "cell_type": "code",
   "execution_count": 62,
   "id": "5d4cc6c4-9a08-41d5-af0a-77119084b1de",
   "metadata": {},
   "outputs": [
    {
     "data": {
      "text/html": [
       "<table class=\"dataframe\">\n",
       "<caption>A tibble: 2 × 2</caption>\n",
       "<thead>\n",
       "\t<tr><th scope=col>sex</th><th scope=col>Number_of_Observations</th></tr>\n",
       "\t<tr><th scope=col>&lt;fct&gt;</th><th scope=col>&lt;int&gt;</th></tr>\n",
       "</thead>\n",
       "<tbody>\n",
       "\t<tr><td>Female</td><td>2333</td></tr>\n",
       "\t<tr><td>Male  </td><td>5734</td></tr>\n",
       "</tbody>\n",
       "</table>\n"
      ],
      "text/latex": [
       "A tibble: 2 × 2\n",
       "\\begin{tabular}{ll}\n",
       " sex & Number\\_of\\_Observations\\\\\n",
       " <fct> & <int>\\\\\n",
       "\\hline\n",
       "\t Female & 2333\\\\\n",
       "\t Male   & 5734\\\\\n",
       "\\end{tabular}\n"
      ],
      "text/markdown": [
       "\n",
       "A tibble: 2 × 2\n",
       "\n",
       "| sex &lt;fct&gt; | Number_of_Observations &lt;int&gt; |\n",
       "|---|---|\n",
       "| Female | 2333 |\n",
       "| Male   | 5734 |\n",
       "\n"
      ],
      "text/plain": [
       "  sex    Number_of_Observations\n",
       "1 Female 2333                  \n",
       "2 Male   5734                  "
      ]
     },
     "metadata": {},
     "output_type": "display_data"
    }
   ],
   "source": [
    "income_summary_2 <- income_training |>\n",
    "                            group_by(sex) |>\n",
    "                            summarize(Number_of_Observations = n())\n",
    "\n",
    "income_summary_2"
   ]
  },
  {
   "cell_type": "markdown",
   "id": "28738d40-9ba7-48ab-b2b5-0d04b0893b23",
   "metadata": {},
   "source": [
    "Number of observations for females is almost half that of males, so we can conclude that our model has a limitation. The limitation is that it is going to be better at classifcying males as it has twice as more data points to train on.\n",
    "\n",
    "#### Visualizing the data\n",
    "\n",
    "To know if our dataset is a good representation of the real world, we can plot a graph to see the **distribution of people based on education**. Our intuition tells us that there should be more people with bachelors and then masters. If the plot indicates the same then we can be confident that our model will be trained on *\"close to real world\"* data."
   ]
  },
  {
   "cell_type": "code",
   "execution_count": 81,
   "id": "a7360125-bb8e-458a-98ff-1bd6de99cb59",
   "metadata": {},
   "outputs": [
    {
     "data": {
      "image/png": "[encoded data removed]",
      "text/plain": [
       "plot without title"
      ]
     },
     "metadata": {
      "image/png": {
       "height": 780,
       "width": 780
      }
     },
     "output_type": "display_data"
    }
   ],
   "source": [
    "options(repr.plot.width = 13,repr.plot.height = 13)\n",
    "income_plot_1 <- income_training |>\n",
    "                group_by(education) |>\n",
    "                summarize(count = n()) |>\n",
    "                ggplot(aes(x=reorder(education,-count), y=count,fill=education)) +\n",
    "                geom_bar(stat = \"identity\") +\n",
    "                labs(x=\"Education Type\",y=\"Number of observations\",fill=\"Key\") +\n",
    "                theme(text=element_text(size = 20))\n",
    "income_plot_1"
   ]
  },
  {
   "cell_type": "markdown",
   "id": "cff36712-1353-4be4-8130-0416ad826522",
   "metadata": {},
   "source": [
    "The plot clearly supports our prediction of more number of observations for Bachelors and Masters. Hence we can say that our data is a good representation of the real world."
   ]
  },
  {
   "cell_type": "markdown",
   "id": "1452a246-d773-4e09-8bd4-11d47bf7a472",
   "metadata": {},
   "source": [
    "# Education Level based on Base Salary and Bonus"
   ]
  },
  {
   "cell_type": "code",
   "execution_count": null,
   "id": "e75065e0-352e-4070-9f12-33aff07187ba",
   "metadata": {},
   "outputs": [],
   "source": [
    "salary_data_mod_1_base <- salary_data |>\n",
    "                filter(! is.na(Education)) |>\n",
    "                mutate(Education = as.factor(Education))\n",
    "\n",
    "group_by(salary_data_mod_1_base, Education) |>\n",
    "    summarize(count = n())\n",
    "# head(salary_data_mod_1_base)"
   ]
  },
  {
   "cell_type": "markdown",
   "id": "fddcc048-b582-4d6b-93d1-5e9a5bb138e3",
   "metadata": {},
   "source": [
    "### Dataset distribution\n",
    "Since we have very few datapoints for\n",
    "* Highschool\n",
    "* PhD\n",
    "* Some College\n",
    "\n",
    "We will filter out these observations"
   ]
  },
  {
   "cell_type": "code",
   "execution_count": null,
   "id": "1e3b7bca-176b-412e-ae8c-a59efc1185ad",
   "metadata": {},
   "outputs": [],
   "source": [
    "salary_data_mod_1_filtered <- salary_data_mod_1_base |>\n",
    "                                filter(Education %in% list(\"Bachelor's Degree\",\"Master's Degree\")) \n",
    "                                # filter(bonus != 0, stockgrantvalue != 0)\n",
    "\n",
    "group_by(salary_data_mod_1_filtered, Education) |>\n",
    "    summarize(count = n())\n",
    "\n",
    "options(repr.plot.width = 15, repr.plot.height= 15)\n",
    "salary_data_mod_1_plot <- ggplot(salary_data_mod_1_filtered, aes(x=yearsofexperience,y=totalyearlycompensation,color=Education)) +\n",
    "                                geom_point(alpha=0.4)\n",
    "\n",
    "head(salary_data_mod_1_filtered)\n",
    "salary_data_mod_1_plot"
   ]
  },
  {
   "cell_type": "code",
   "execution_count": null,
   "id": "bd71ab86-a96a-4721-8017-14c1de95e5bb",
   "metadata": {},
   "outputs": [],
   "source": [
    "salary_data_mod_2_filtered <- salary_data_mod_1_base |>\n",
    "                                filter(Education %in% list(\"Bachelor's Degree\",\"Master's Degree\")) |>\n",
    "                                filter(bonus != 0, stockgrantvalue != 0)\n",
    "\n",
    "group_by(salary_data_mod_2_filtered, Education) |>\n",
    "    summarize(count = n())\n",
    "\n",
    "options(repr.plot.width = 15, repr.plot.height=15)\n",
    "salary_data_mod_2_plot <- ggplot(salary_data_mod_2_filtered, aes(x=bonus,y=stockgrantvalue,color=Education)) +\n",
    "                                geom_point(alpha=0.4)\n",
    "\n",
    "head(salary_data_mod_2_filtered)\n",
    "salary_data_mod_2_plot"
   ]
  },
  {
   "cell_type": "code",
   "execution_count": null,
   "id": "ba5518e3-bb27-46d4-9da1-b6803c9db607",
   "metadata": {},
   "outputs": [],
   "source": []
  }
 ],
 "metadata": {
  "kernelspec": {
   "display_name": "R",
   "language": "R",
   "name": "ir"
  },
  "language_info": {
   "codemirror_mode": "r",
   "file_extension": ".r",
   "mimetype": "text/x-r-source",
   "name": "R",
   "pygments_lexer": "r",
   "version": "4.1.3"
  }
 },
 "nbformat": 4,
 "nbformat_minor": 5
}
