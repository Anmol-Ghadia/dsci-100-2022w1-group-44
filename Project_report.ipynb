{
 "cells": [
  {
   "cell_type": "markdown",
   "id": "f7e917cb-217a-42b2-bdb3-1270fbc2a1fc",
   "metadata": {},
   "source": [
    "# Predicting Income class"
   ]
  },
  {
   "cell_type": "markdown",
   "id": "2610417b-0be5-4dd6-a2a8-2c9e27d6a0fe",
   "metadata": {},
   "source": [
    "![Gif for money](https://media.giphy.com/media/67ThRZlYBvibtdF9JH/giphy.gif)\n",
    "\n",
    "Source: https://media.giphy.com/media/67ThRZlYBvibtdF9JH/giphy.gif"
   ]
  },
  {
   "cell_type": "code",
   "execution_count": 29,
   "id": "dc3b118f-80f9-4978-8d66-3f965307b2ae",
   "metadata": {},
   "outputs": [],
   "source": [
    "\n",
    "library(tidyverse)\n",
    "library(repr)\n",
    "library(tidymodels)\n",
    "#options(repr.matrix.max.rows = 6)\n",
    "SEED <- 2020"
   ]
  },
  {
   "cell_type": "code",
   "execution_count": 30,
   "id": "bfe97e42-2ba6-4a93-86cc-62bb0a5265ac",
   "metadata": {},
   "outputs": [
    {
     "name": "stderr",
     "output_type": "stream",
     "text": [
      "\u001b[1mRows: \u001b[22m\u001b[34m32561\u001b[39m \u001b[1mColumns: \u001b[22m\u001b[34m15\u001b[39m\n",
      "\u001b[36m──\u001b[39m \u001b[1mColumn specification\u001b[22m \u001b[36m────────────────────────────────────────────────────────\u001b[39m\n",
      "\u001b[1mDelimiter:\u001b[22m \",\"\n",
      "\u001b[31mchr\u001b[39m (9): workclass, education, marital_status, occupation, relationship, rac...\n",
      "\u001b[32mdbl\u001b[39m (6): age, fnlwgt, eduation_num, capital_gain, capital_loss, hours_per_week\n",
      "\n",
      "\u001b[36mℹ\u001b[39m Use `spec()` to retrieve the full column specification for this data.\n",
      "\u001b[36mℹ\u001b[39m Specify the column types or set `show_col_types = FALSE` to quiet this message.\n"
     ]
    },
    {
     "data": {
      "text/html": [
       "<table class=\"dataframe\">\n",
       "<caption>A tibble: 6 × 15</caption>\n",
       "<thead>\n",
       "\t<tr><th scope=col>age</th><th scope=col>workclass</th><th scope=col>fnlwgt</th><th scope=col>education</th><th scope=col>eduation_num</th><th scope=col>marital_status</th><th scope=col>occupation</th><th scope=col>relationship</th><th scope=col>race</th><th scope=col>sex</th><th scope=col>capital_gain</th><th scope=col>capital_loss</th><th scope=col>hours_per_week</th><th scope=col>native_country</th><th scope=col>income</th></tr>\n",
       "\t<tr><th scope=col>&lt;dbl&gt;</th><th scope=col>&lt;chr&gt;</th><th scope=col>&lt;dbl&gt;</th><th scope=col>&lt;chr&gt;</th><th scope=col>&lt;dbl&gt;</th><th scope=col>&lt;chr&gt;</th><th scope=col>&lt;chr&gt;</th><th scope=col>&lt;chr&gt;</th><th scope=col>&lt;chr&gt;</th><th scope=col>&lt;chr&gt;</th><th scope=col>&lt;dbl&gt;</th><th scope=col>&lt;dbl&gt;</th><th scope=col>&lt;dbl&gt;</th><th scope=col>&lt;chr&gt;</th><th scope=col>&lt;chr&gt;</th></tr>\n",
       "</thead>\n",
       "<tbody>\n",
       "\t<tr><td>39</td><td><span style=white-space:pre-wrap>State-gov       </span></td><td> 77516</td><td>Bachelors</td><td>13</td><td><span style=white-space:pre-wrap>Never-married     </span></td><td><span style=white-space:pre-wrap>Adm-clerical     </span></td><td>Not-in-family</td><td>White</td><td><span style=white-space:pre-wrap>Male  </span></td><td>2174</td><td>0</td><td>40</td><td>United-States</td><td>&lt;=50K</td></tr>\n",
       "\t<tr><td>50</td><td>Self-emp-not-inc</td><td> 83311</td><td>Bachelors</td><td>13</td><td>Married-civ-spouse</td><td><span style=white-space:pre-wrap>Exec-managerial  </span></td><td><span style=white-space:pre-wrap>Husband      </span></td><td>White</td><td><span style=white-space:pre-wrap>Male  </span></td><td><span style=white-space:pre-wrap>   0</span></td><td>0</td><td>13</td><td>United-States</td><td>&lt;=50K</td></tr>\n",
       "\t<tr><td>38</td><td><span style=white-space:pre-wrap>Private         </span></td><td>215646</td><td><span style=white-space:pre-wrap>HS-grad  </span></td><td> 9</td><td><span style=white-space:pre-wrap>Divorced          </span></td><td>Handlers-cleaners</td><td>Not-in-family</td><td>White</td><td><span style=white-space:pre-wrap>Male  </span></td><td><span style=white-space:pre-wrap>   0</span></td><td>0</td><td>40</td><td>United-States</td><td>&lt;=50K</td></tr>\n",
       "\t<tr><td>53</td><td><span style=white-space:pre-wrap>Private         </span></td><td>234721</td><td><span style=white-space:pre-wrap>11th     </span></td><td> 7</td><td>Married-civ-spouse</td><td>Handlers-cleaners</td><td><span style=white-space:pre-wrap>Husband      </span></td><td>Black</td><td><span style=white-space:pre-wrap>Male  </span></td><td><span style=white-space:pre-wrap>   0</span></td><td>0</td><td>40</td><td>United-States</td><td>&lt;=50K</td></tr>\n",
       "\t<tr><td>28</td><td><span style=white-space:pre-wrap>Private         </span></td><td>338409</td><td>Bachelors</td><td>13</td><td>Married-civ-spouse</td><td><span style=white-space:pre-wrap>Prof-specialty   </span></td><td><span style=white-space:pre-wrap>Wife         </span></td><td>Black</td><td>Female</td><td><span style=white-space:pre-wrap>   0</span></td><td>0</td><td>40</td><td><span style=white-space:pre-wrap>Cuba         </span></td><td>&lt;=50K</td></tr>\n",
       "\t<tr><td>37</td><td><span style=white-space:pre-wrap>Private         </span></td><td>284582</td><td><span style=white-space:pre-wrap>Masters  </span></td><td>14</td><td>Married-civ-spouse</td><td><span style=white-space:pre-wrap>Exec-managerial  </span></td><td><span style=white-space:pre-wrap>Wife         </span></td><td>White</td><td>Female</td><td><span style=white-space:pre-wrap>   0</span></td><td>0</td><td>40</td><td>United-States</td><td>&lt;=50K</td></tr>\n",
       "</tbody>\n",
       "</table>\n"
      ],
      "text/latex": [
       "A tibble: 6 × 15\n",
       "\\begin{tabular}{lllllllllllllll}\n",
       " age & workclass & fnlwgt & education & eduation\\_num & marital\\_status & occupation & relationship & race & sex & capital\\_gain & capital\\_loss & hours\\_per\\_week & native\\_country & income\\\\\n",
       " <dbl> & <chr> & <dbl> & <chr> & <dbl> & <chr> & <chr> & <chr> & <chr> & <chr> & <dbl> & <dbl> & <dbl> & <chr> & <chr>\\\\\n",
       "\\hline\n",
       "\t 39 & State-gov        &  77516 & Bachelors & 13 & Never-married      & Adm-clerical      & Not-in-family & White & Male   & 2174 & 0 & 40 & United-States & <=50K\\\\\n",
       "\t 50 & Self-emp-not-inc &  83311 & Bachelors & 13 & Married-civ-spouse & Exec-managerial   & Husband       & White & Male   &    0 & 0 & 13 & United-States & <=50K\\\\\n",
       "\t 38 & Private          & 215646 & HS-grad   &  9 & Divorced           & Handlers-cleaners & Not-in-family & White & Male   &    0 & 0 & 40 & United-States & <=50K\\\\\n",
       "\t 53 & Private          & 234721 & 11th      &  7 & Married-civ-spouse & Handlers-cleaners & Husband       & Black & Male   &    0 & 0 & 40 & United-States & <=50K\\\\\n",
       "\t 28 & Private          & 338409 & Bachelors & 13 & Married-civ-spouse & Prof-specialty    & Wife          & Black & Female &    0 & 0 & 40 & Cuba          & <=50K\\\\\n",
       "\t 37 & Private          & 284582 & Masters   & 14 & Married-civ-spouse & Exec-managerial   & Wife          & White & Female &    0 & 0 & 40 & United-States & <=50K\\\\\n",
       "\\end{tabular}\n"
      ],
      "text/markdown": [
       "\n",
       "A tibble: 6 × 15\n",
       "\n",
       "| age &lt;dbl&gt; | workclass &lt;chr&gt; | fnlwgt &lt;dbl&gt; | education &lt;chr&gt; | eduation_num &lt;dbl&gt; | marital_status &lt;chr&gt; | occupation &lt;chr&gt; | relationship &lt;chr&gt; | race &lt;chr&gt; | sex &lt;chr&gt; | capital_gain &lt;dbl&gt; | capital_loss &lt;dbl&gt; | hours_per_week &lt;dbl&gt; | native_country &lt;chr&gt; | income &lt;chr&gt; |\n",
       "|---|---|---|---|---|---|---|---|---|---|---|---|---|---|---|\n",
       "| 39 | State-gov        |  77516 | Bachelors | 13 | Never-married      | Adm-clerical      | Not-in-family | White | Male   | 2174 | 0 | 40 | United-States | &lt;=50K |\n",
       "| 50 | Self-emp-not-inc |  83311 | Bachelors | 13 | Married-civ-spouse | Exec-managerial   | Husband       | White | Male   |    0 | 0 | 13 | United-States | &lt;=50K |\n",
       "| 38 | Private          | 215646 | HS-grad   |  9 | Divorced           | Handlers-cleaners | Not-in-family | White | Male   |    0 | 0 | 40 | United-States | &lt;=50K |\n",
       "| 53 | Private          | 234721 | 11th      |  7 | Married-civ-spouse | Handlers-cleaners | Husband       | Black | Male   |    0 | 0 | 40 | United-States | &lt;=50K |\n",
       "| 28 | Private          | 338409 | Bachelors | 13 | Married-civ-spouse | Prof-specialty    | Wife          | Black | Female |    0 | 0 | 40 | Cuba          | &lt;=50K |\n",
       "| 37 | Private          | 284582 | Masters   | 14 | Married-civ-spouse | Exec-managerial   | Wife          | White | Female |    0 | 0 | 40 | United-States | &lt;=50K |\n",
       "\n"
      ],
      "text/plain": [
       "  age workclass        fnlwgt education eduation_num marital_status    \n",
       "1 39  State-gov         77516 Bachelors 13           Never-married     \n",
       "2 50  Self-emp-not-inc  83311 Bachelors 13           Married-civ-spouse\n",
       "3 38  Private          215646 HS-grad    9           Divorced          \n",
       "4 53  Private          234721 11th       7           Married-civ-spouse\n",
       "5 28  Private          338409 Bachelors 13           Married-civ-spouse\n",
       "6 37  Private          284582 Masters   14           Married-civ-spouse\n",
       "  occupation        relationship  race  sex    capital_gain capital_loss\n",
       "1 Adm-clerical      Not-in-family White Male   2174         0           \n",
       "2 Exec-managerial   Husband       White Male      0         0           \n",
       "3 Handlers-cleaners Not-in-family White Male      0         0           \n",
       "4 Handlers-cleaners Husband       Black Male      0         0           \n",
       "5 Prof-specialty    Wife          Black Female    0         0           \n",
       "6 Exec-managerial   Wife          White Female    0         0           \n",
       "  hours_per_week native_country income\n",
       "1 40             United-States  <=50K \n",
       "2 13             United-States  <=50K \n",
       "3 40             United-States  <=50K \n",
       "4 40             United-States  <=50K \n",
       "5 40             Cuba           <=50K \n",
       "6 40             United-States  <=50K "
      ]
     },
     "metadata": {},
     "output_type": "display_data"
    }
   ],
   "source": [
    "income_data <- read_csv(\"https://archive.ics.uci.edu/ml/machine-learning-databases/adult/adult.data\",\n",
    "                       col_names = c(\"age\",\n",
    "                                        \"workclass\",\n",
    "                                        \"fnlwgt\",\n",
    "                                        \"education\",\n",
    "                                        \"eduation_num\",\n",
    "                                        \"marital_status\",\n",
    "                                        \"occupation\",\n",
    "                                        \"relationship\",\n",
    "                                        \"race\",\n",
    "                                        \"sex\",\n",
    "                                        \"capital_gain\",\n",
    "                                        \"capital_loss\",\n",
    "                                        \"hours_per_week\",\n",
    "                                        \"native_country\",\n",
    "                                        \"income\"))\n",
    "head(income_data)"
   ]
  },
  {
   "cell_type": "code",
   "execution_count": 34,
   "id": "1072ec81-2fa7-4216-bfb1-7263c5a5996e",
   "metadata": {},
   "outputs": [],
   "source": [
    "set.seed(SEED)\n",
    "income_split <-  initial_split(income_data, prop=0.75, strata = income)\n",
    "income_testing <- testing(income_split)"
   ]
  },
  {
   "cell_type": "code",
   "execution_count": 35,
   "id": "6c989bf3-2f23-466b-8bd4-47d78e5ae477",
   "metadata": {},
   "outputs": [
    {
     "data": {
      "text/html": [
       "<table class=\"dataframe\">\n",
       "<caption>A tibble: 6 × 15</caption>\n",
       "<thead>\n",
       "\t<tr><th scope=col>race</th><th scope=col>income</th><th scope=col>hours_per_week</th><th scope=col>age</th><th scope=col>workclass</th><th scope=col>fnlwgt</th><th scope=col>eduation_num</th><th scope=col>education</th><th scope=col>relationship</th><th scope=col>occupation</th><th scope=col>capital_gain</th><th scope=col>native_country</th><th scope=col>capital_loss</th><th scope=col>sex</th><th scope=col>marital_status</th></tr>\n",
       "\t<tr><th scope=col>&lt;fct&gt;</th><th scope=col>&lt;fct&gt;</th><th scope=col>&lt;dbl&gt;</th><th scope=col>&lt;dbl&gt;</th><th scope=col>&lt;fct&gt;</th><th scope=col>&lt;dbl&gt;</th><th scope=col>&lt;dbl&gt;</th><th scope=col>&lt;fct&gt;</th><th scope=col>&lt;fct&gt;</th><th scope=col>&lt;fct&gt;</th><th scope=col>&lt;dbl&gt;</th><th scope=col>&lt;fct&gt;</th><th scope=col>&lt;dbl&gt;</th><th scope=col>&lt;fct&gt;</th><th scope=col>&lt;fct&gt;</th></tr>\n",
       "</thead>\n",
       "<tbody>\n",
       "\t<tr><td>White</td><td>&lt;=50K</td><td>40</td><td>39</td><td>State-gov</td><td> 77516</td><td>13</td><td>Bachelors</td><td>Not-in-family</td><td><span style=white-space:pre-wrap>Adm-clerical     </span></td><td>2174</td><td>United-States</td><td>0</td><td><span style=white-space:pre-wrap>Male  </span></td><td><span style=white-space:pre-wrap>Never-married        </span></td></tr>\n",
       "\t<tr><td>White</td><td>&lt;=50K</td><td>40</td><td>38</td><td><span style=white-space:pre-wrap>Private  </span></td><td>215646</td><td> 9</td><td><span style=white-space:pre-wrap>HS-grad  </span></td><td>Not-in-family</td><td>Handlers-cleaners</td><td><span style=white-space:pre-wrap>   0</span></td><td>United-States</td><td>0</td><td><span style=white-space:pre-wrap>Male  </span></td><td><span style=white-space:pre-wrap>Divorced             </span></td></tr>\n",
       "\t<tr><td>Black</td><td>&lt;=50K</td><td>40</td><td>53</td><td><span style=white-space:pre-wrap>Private  </span></td><td>234721</td><td> 7</td><td><span style=white-space:pre-wrap>11th     </span></td><td><span style=white-space:pre-wrap>Husband      </span></td><td>Handlers-cleaners</td><td><span style=white-space:pre-wrap>   0</span></td><td>United-States</td><td>0</td><td><span style=white-space:pre-wrap>Male  </span></td><td><span style=white-space:pre-wrap>Married-civ-spouse   </span></td></tr>\n",
       "\t<tr><td>Black</td><td>&lt;=50K</td><td>40</td><td>28</td><td><span style=white-space:pre-wrap>Private  </span></td><td>338409</td><td>13</td><td>Bachelors</td><td><span style=white-space:pre-wrap>Wife         </span></td><td><span style=white-space:pre-wrap>Prof-specialty   </span></td><td><span style=white-space:pre-wrap>   0</span></td><td><span style=white-space:pre-wrap>Cuba         </span></td><td>0</td><td>Female</td><td><span style=white-space:pre-wrap>Married-civ-spouse   </span></td></tr>\n",
       "\t<tr><td>White</td><td>&lt;=50K</td><td>40</td><td>37</td><td><span style=white-space:pre-wrap>Private  </span></td><td>284582</td><td>14</td><td><span style=white-space:pre-wrap>Masters  </span></td><td><span style=white-space:pre-wrap>Wife         </span></td><td><span style=white-space:pre-wrap>Exec-managerial  </span></td><td><span style=white-space:pre-wrap>   0</span></td><td>United-States</td><td>0</td><td>Female</td><td><span style=white-space:pre-wrap>Married-civ-spouse   </span></td></tr>\n",
       "\t<tr><td>Black</td><td>&lt;=50K</td><td>16</td><td>49</td><td><span style=white-space:pre-wrap>Private  </span></td><td>160187</td><td> 5</td><td><span style=white-space:pre-wrap>9th      </span></td><td>Not-in-family</td><td><span style=white-space:pre-wrap>Other-service    </span></td><td><span style=white-space:pre-wrap>   0</span></td><td><span style=white-space:pre-wrap>Jamaica      </span></td><td>0</td><td>Female</td><td>Married-spouse-absent</td></tr>\n",
       "</tbody>\n",
       "</table>\n"
      ],
      "text/latex": [
       "A tibble: 6 × 15\n",
       "\\begin{tabular}{lllllllllllllll}\n",
       " race & income & hours\\_per\\_week & age & workclass & fnlwgt & eduation\\_num & education & relationship & occupation & capital\\_gain & native\\_country & capital\\_loss & sex & marital\\_status\\\\\n",
       " <fct> & <fct> & <dbl> & <dbl> & <fct> & <dbl> & <dbl> & <fct> & <fct> & <fct> & <dbl> & <fct> & <dbl> & <fct> & <fct>\\\\\n",
       "\\hline\n",
       "\t White & <=50K & 40 & 39 & State-gov &  77516 & 13 & Bachelors & Not-in-family & Adm-clerical      & 2174 & United-States & 0 & Male   & Never-married        \\\\\n",
       "\t White & <=50K & 40 & 38 & Private   & 215646 &  9 & HS-grad   & Not-in-family & Handlers-cleaners &    0 & United-States & 0 & Male   & Divorced             \\\\\n",
       "\t Black & <=50K & 40 & 53 & Private   & 234721 &  7 & 11th      & Husband       & Handlers-cleaners &    0 & United-States & 0 & Male   & Married-civ-spouse   \\\\\n",
       "\t Black & <=50K & 40 & 28 & Private   & 338409 & 13 & Bachelors & Wife          & Prof-specialty    &    0 & Cuba          & 0 & Female & Married-civ-spouse   \\\\\n",
       "\t White & <=50K & 40 & 37 & Private   & 284582 & 14 & Masters   & Wife          & Exec-managerial   &    0 & United-States & 0 & Female & Married-civ-spouse   \\\\\n",
       "\t Black & <=50K & 16 & 49 & Private   & 160187 &  5 & 9th       & Not-in-family & Other-service     &    0 & Jamaica       & 0 & Female & Married-spouse-absent\\\\\n",
       "\\end{tabular}\n"
      ],
      "text/markdown": [
       "\n",
       "A tibble: 6 × 15\n",
       "\n",
       "| race &lt;fct&gt; | income &lt;fct&gt; | hours_per_week &lt;dbl&gt; | age &lt;dbl&gt; | workclass &lt;fct&gt; | fnlwgt &lt;dbl&gt; | eduation_num &lt;dbl&gt; | education &lt;fct&gt; | relationship &lt;fct&gt; | occupation &lt;fct&gt; | capital_gain &lt;dbl&gt; | native_country &lt;fct&gt; | capital_loss &lt;dbl&gt; | sex &lt;fct&gt; | marital_status &lt;fct&gt; |\n",
       "|---|---|---|---|---|---|---|---|---|---|---|---|---|---|---|\n",
       "| White | &lt;=50K | 40 | 39 | State-gov |  77516 | 13 | Bachelors | Not-in-family | Adm-clerical      | 2174 | United-States | 0 | Male   | Never-married         |\n",
       "| White | &lt;=50K | 40 | 38 | Private   | 215646 |  9 | HS-grad   | Not-in-family | Handlers-cleaners |    0 | United-States | 0 | Male   | Divorced              |\n",
       "| Black | &lt;=50K | 40 | 53 | Private   | 234721 |  7 | 11th      | Husband       | Handlers-cleaners |    0 | United-States | 0 | Male   | Married-civ-spouse    |\n",
       "| Black | &lt;=50K | 40 | 28 | Private   | 338409 | 13 | Bachelors | Wife          | Prof-specialty    |    0 | Cuba          | 0 | Female | Married-civ-spouse    |\n",
       "| White | &lt;=50K | 40 | 37 | Private   | 284582 | 14 | Masters   | Wife          | Exec-managerial   |    0 | United-States | 0 | Female | Married-civ-spouse    |\n",
       "| Black | &lt;=50K | 16 | 49 | Private   | 160187 |  5 | 9th       | Not-in-family | Other-service     |    0 | Jamaica       | 0 | Female | Married-spouse-absent |\n",
       "\n"
      ],
      "text/plain": [
       "  race  income hours_per_week age workclass fnlwgt eduation_num education\n",
       "1 White <=50K  40             39  State-gov  77516 13           Bachelors\n",
       "2 White <=50K  40             38  Private   215646  9           HS-grad  \n",
       "3 Black <=50K  40             53  Private   234721  7           11th     \n",
       "4 Black <=50K  40             28  Private   338409 13           Bachelors\n",
       "5 White <=50K  40             37  Private   284582 14           Masters  \n",
       "6 Black <=50K  16             49  Private   160187  5           9th      \n",
       "  relationship  occupation        capital_gain native_country capital_loss\n",
       "1 Not-in-family Adm-clerical      2174         United-States  0           \n",
       "2 Not-in-family Handlers-cleaners    0         United-States  0           \n",
       "3 Husband       Handlers-cleaners    0         United-States  0           \n",
       "4 Wife          Prof-specialty       0         Cuba           0           \n",
       "5 Wife          Exec-managerial      0         United-States  0           \n",
       "6 Not-in-family Other-service        0         Jamaica        0           \n",
       "  sex    marital_status       \n",
       "1 Male   Never-married        \n",
       "2 Male   Divorced             \n",
       "3 Male   Married-civ-spouse   \n",
       "4 Female Married-civ-spouse   \n",
       "5 Female Married-civ-spouse   \n",
       "6 Female Married-spouse-absent"
      ]
     },
     "metadata": {},
     "output_type": "display_data"
    }
   ],
   "source": [
    "income_training <- training(income_split) |>\n",
    "                    mutate(workclass = as.factor(workclass),\n",
    "                           education = as.factor(education),\n",
    "                           marital_status = as.factor(marital_status),\n",
    "                           occupation = as.factor(occupation),\n",
    "                           relationship = as.factor(relationship),\n",
    "                           race = as.factor(race),\n",
    "                           sex = as.factor(sex),\n",
    "                           native_country = as.factor(native_country),\n",
    "                           income = as.factor(income)) |>\n",
    "                    sample()\n",
    "\n",
    "head(income_training)\n",
    "#slice(income_training,1)"
   ]
  },
  {
   "cell_type": "code",
   "execution_count": null,
   "id": "df3fcaeb-3248-423d-98ba-b5f5ed3cf2a9",
   "metadata": {},
   "outputs": [],
   "source": []
  },
  {
   "cell_type": "code",
   "execution_count": null,
   "id": "bc112416-377b-4272-8306-bf2cc4aca836",
   "metadata": {},
   "outputs": [],
   "source": []
  }
 ],
 "metadata": {
  "kernelspec": {
   "display_name": "R",
   "language": "R",
   "name": "ir"
  },
  "language_info": {
   "codemirror_mode": "r",
   "file_extension": ".r",
   "mimetype": "text/x-r-source",
   "name": "R",
   "pygments_lexer": "r",
   "version": "4.1.3"
  }
 },
 "nbformat": 4,
 "nbformat_minor": 5
}
